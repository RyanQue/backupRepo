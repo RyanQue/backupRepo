{
 "cells": [
  {
   "cell_type": "markdown",
   "id": "4ee86ce4",
   "metadata": {},
   "source": [
    "## 1. Importing Libs / Data loading / Environment setting"
   ]
  },
  {
   "cell_type": "code",
   "execution_count": 1,
   "id": "c3b85dca",
   "metadata": {},
   "outputs": [],
   "source": [
    "# basic lib\n",
    "import numpy as np\n",
    "import pandas as pd\n",
    "import matplotlib.pyplot as plt\n",
    "import seaborn as sns\n",
    "%matplotlib inline\n",
    "import missingno as msn\n",
    "import warnings\n",
    "import random\n",
    "import math\n",
    "\n",
    "# setting\n",
    "warnings.filterwarnings('ignore')\n",
    "pd.set_option(\"display.max_columns\", 20)"
   ]
  },
  {
   "cell_type": "code",
   "execution_count": 2,
   "id": "3f70468d",
   "metadata": {},
   "outputs": [],
   "source": [
    "from sklearn.model_selection import train_test_split\n",
    "import re\n",
    "\n",
    "import torch\n",
    "\n",
    "# reproducibility (global setting)\n",
    "torch.manual_seed(12)\n",
    "np.random.seed(12)\n",
    "random.seed(12)\n",
    "\n",
    "import pkg_resources\n",
    "from symspellpy import SymSpell, Verbosity\n",
    "\n",
    "from nltk.tokenize import word_tokenize\n",
    "from nltk.corpus import stopwords\n",
    "import string\n",
    "import contractions\n",
    "import html\n",
    "import spacy\n",
    "#spacy.cli.download(\"en_core_web_sm\")\n",
    "spacyNLP = spacy.load(\"en_core_web_sm\")\n"
   ]
  },
  {
   "cell_type": "code",
   "execution_count": 3,
   "id": "297c96ac",
   "metadata": {},
   "outputs": [],
   "source": [
    "# read data\n",
    "originData = pd.read_csv(\"train.csv\")\n",
    "\n",
    "# create a deep copy - make sure the original dataset is not changed.\n",
    "dataset = originData.copy(deep = True)"
   ]
  },
  {
   "cell_type": "markdown",
   "id": "8a2d0445",
   "metadata": {},
   "source": [
    "## 2. EDA\n"
   ]
  },
  {
   "cell_type": "code",
   "execution_count": 4,
   "id": "d57bc120",
   "metadata": {},
   "outputs": [
    {
     "data": {
      "text/html": [
       "<div>\n",
       "<style scoped>\n",
       "    .dataframe tbody tr th:only-of-type {\n",
       "        vertical-align: middle;\n",
       "    }\n",
       "\n",
       "    .dataframe tbody tr th {\n",
       "        vertical-align: top;\n",
       "    }\n",
       "\n",
       "    .dataframe thead th {\n",
       "        text-align: right;\n",
       "    }\n",
       "</style>\n",
       "<table border=\"1\" class=\"dataframe\">\n",
       "  <thead>\n",
       "    <tr style=\"text-align: right;\">\n",
       "      <th></th>\n",
       "      <th>rating</th>\n",
       "      <th>reviewText</th>\n",
       "      <th>summary</th>\n",
       "    </tr>\n",
       "  </thead>\n",
       "  <tbody>\n",
       "    <tr>\n",
       "      <th>1306</th>\n",
       "      <td>4</td>\n",
       "      <td>I really enjoyed this book because it ended on...</td>\n",
       "      <td>Surviving The Game</td>\n",
       "    </tr>\n",
       "    <tr>\n",
       "      <th>4120</th>\n",
       "      <td>5</td>\n",
       "      <td>This is a very dark and twisted tale of the da...</td>\n",
       "      <td>Very twisted</td>\n",
       "    </tr>\n",
       "    <tr>\n",
       "      <th>4422</th>\n",
       "      <td>1</td>\n",
       "      <td>Thank heavens this was an Amazon freebie when ...</td>\n",
       "      <td>Failed resurrection.</td>\n",
       "    </tr>\n",
       "    <tr>\n",
       "      <th>3100</th>\n",
       "      <td>3</td>\n",
       "      <td>This was an unusual book for certain groups wi...</td>\n",
       "      <td>Different</td>\n",
       "    </tr>\n",
       "    <tr>\n",
       "      <th>1929</th>\n",
       "      <td>5</td>\n",
       "      <td>When I first started reading this e-book, I re...</td>\n",
       "      <td>Not your average zombie story</td>\n",
       "    </tr>\n",
       "    <tr>\n",
       "      <th>3350</th>\n",
       "      <td>1</td>\n",
       "      <td>the writing was mundane and i thought things w...</td>\n",
       "      <td>15 minute read at best</td>\n",
       "    </tr>\n",
       "    <tr>\n",
       "      <th>5847</th>\n",
       "      <td>3</td>\n",
       "      <td>Iceland, 900AD. Lief Nabboddrson is nearing th...</td>\n",
       "      <td>Certain To Enchant the Right Audience</td>\n",
       "    </tr>\n",
       "    <tr>\n",
       "      <th>4260</th>\n",
       "      <td>1</td>\n",
       "      <td>I thought there was something to this, but as ...</td>\n",
       "      <td>Could have been a good one</td>\n",
       "    </tr>\n",
       "    <tr>\n",
       "      <th>7069</th>\n",
       "      <td>5</td>\n",
       "      <td>I like shifter alien romance stories with a do...</td>\n",
       "      <td>Quick, sexy read.</td>\n",
       "    </tr>\n",
       "    <tr>\n",
       "      <th>2578</th>\n",
       "      <td>5</td>\n",
       "      <td>I have subscribed to the \"The New York Times -...</td>\n",
       "      <td>Excellent News Source!</td>\n",
       "    </tr>\n",
       "  </tbody>\n",
       "</table>\n",
       "</div>"
      ],
      "text/plain": [
       "      rating                                         reviewText  \\\n",
       "1306       4  I really enjoyed this book because it ended on...   \n",
       "4120       5  This is a very dark and twisted tale of the da...   \n",
       "4422       1  Thank heavens this was an Amazon freebie when ...   \n",
       "3100       3  This was an unusual book for certain groups wi...   \n",
       "1929       5  When I first started reading this e-book, I re...   \n",
       "3350       1  the writing was mundane and i thought things w...   \n",
       "5847       3  Iceland, 900AD. Lief Nabboddrson is nearing th...   \n",
       "4260       1  I thought there was something to this, but as ...   \n",
       "7069       5  I like shifter alien romance stories with a do...   \n",
       "2578       5  I have subscribed to the \"The New York Times -...   \n",
       "\n",
       "                                    summary  \n",
       "1306                     Surviving The Game  \n",
       "4120                           Very twisted  \n",
       "4422                   Failed resurrection.  \n",
       "3100                              Different  \n",
       "1929          Not your average zombie story  \n",
       "3350                 15 minute read at best  \n",
       "5847  Certain To Enchant the Right Audience  \n",
       "4260             Could have been a good one  \n",
       "7069                      Quick, sexy read.  \n",
       "2578                 Excellent News Source!  "
      ]
     },
     "execution_count": 4,
     "metadata": {},
     "output_type": "execute_result"
    }
   ],
   "source": [
    "dataset.sample(10)"
   ]
  },
  {
   "cell_type": "markdown",
   "id": "bbb76e63",
   "metadata": {},
   "source": [
    "- `rating` - the target\n",
    "- `reviewText` - long review, feature\n",
    "- `summary` - short review, feature"
   ]
  },
  {
   "cell_type": "markdown",
   "id": "24f97351",
   "metadata": {},
   "source": [
    "### 2.1. missing values"
   ]
  },
  {
   "cell_type": "code",
   "execution_count": 5,
   "id": "cb365a3a",
   "metadata": {},
   "outputs": [
    {
     "data": {
      "text/plain": [
       "<AxesSubplot:>"
      ]
     },
     "execution_count": 5,
     "metadata": {},
     "output_type": "execute_result"
    },
    {
     "data": {
      "image/png": "[encoded data removed]",
      "text/plain": [
       "<Figure size 1728x720 with 3 Axes>"
      ]
     },
     "metadata": {
      "needs_background": "light"
     },
     "output_type": "display_data"
    }
   ],
   "source": [
    "# missing value\n",
    "msn.bar(dataset, color='lightsteelblue')"
   ]
  },
  {
   "cell_type": "markdown",
   "id": "804f65ec",
   "metadata": {},
   "source": [
    "no missing value"
   ]
  },
  {
   "cell_type": "markdown",
   "id": "85dd1ebc",
   "metadata": {},
   "source": [
    "### 2.2. Target"
   ]
  },
  {
   "cell_type": "code",
   "execution_count": 6,
   "id": "a6ab9f48",
   "metadata": {},
   "outputs": [
    {
     "data": {
      "text/plain": [
       "<AxesSubplot:xlabel='rating', ylabel='Count'>"
      ]
     },
     "execution_count": 6,
     "metadata": {},
     "output_type": "execute_result"
    },
    {
     "data": {
      "image/png": "[encoded data removed]",
      "text/plain": [
       "<Figure size 432x288 with 1 Axes>"
      ]
     },
     "metadata": {
      "needs_background": "light"
     },
     "output_type": "display_data"
    }
   ],
   "source": [
    "sns.histplot(data = dataset, x = \"rating\", bins = 5)"
   ]
  },
  {
   "cell_type": "markdown",
   "id": "49a341f4",
   "metadata": {},
   "source": [
    "Several conclusions:\n",
    "- This is a multi-classfication problem.\n",
    "- Classes have order - Ordinal classification.\n",
    "- The target is slightly umbalanced, 4 and 5 has more examples and 3 has less examples."
   ]
  },
  {
   "cell_type": "markdown",
   "id": "239dda04",
   "metadata": {},
   "source": [
    "### 2.3 Text Features "
   ]
  },
  {
   "cell_type": "code",
   "execution_count": 7,
   "id": "5b3d893b",
   "metadata": {},
   "outputs": [
    {
     "data": {
      "text/plain": [
       "<AxesSubplot:xlabel='reviewTextCharCount', ylabel='Count'>"
      ]
     },
     "execution_count": 7,
     "metadata": {},
     "output_type": "execute_result"
    },
    {
     "data": {
      "image/png": "[encoded data removed]",
      "text/plain": [
       "<Figure size 432x288 with 1 Axes>"
      ]
     },
     "metadata": {
      "needs_background": "light"
     },
     "output_type": "display_data"
    }
   ],
   "source": [
    "# reviewText\n",
    "dataset['reviewTextCharCount'] = dataset['reviewText'].apply(len)\n",
    "sns.histplot(dataset['reviewTextCharCount'], bins = 100)"
   ]
  },
  {
   "cell_type": "markdown",
   "id": "1f94cc4f",
   "metadata": {},
   "source": [
    "There are some reviews that writes a really long article while some are just a few words.\n",
    "\n",
    "Apparently right skewed."
   ]
  },
  {
   "cell_type": "code",
   "execution_count": 8,
   "id": "88d811ff",
   "metadata": {},
   "outputs": [
    {
     "data": {
      "text/plain": [
       "<AxesSubplot:xlabel='summaryCharCount', ylabel='Count'>"
      ]
     },
     "execution_count": 8,
     "metadata": {},
     "output_type": "execute_result"
    },
    {
     "data": {
      "image/png": "[encoded data removed]",
      "text/plain": [
       "<Figure size 432x288 with 1 Axes>"
      ]
     },
     "metadata": {
      "needs_background": "light"
     },
     "output_type": "display_data"
    }
   ],
   "source": [
    "# summary\n",
    "dataset['summaryCharCount'] = dataset['summary'].apply(len)\n",
    "sns.histplot(dataset['summaryCharCount'], bins = 12)"
   ]
  },
  {
   "cell_type": "markdown",
   "id": "39fe0bcd",
   "metadata": {},
   "source": [
    "`summary` has much shorter length but it is also right skewed."
   ]
  },
  {
   "cell_type": "code",
   "execution_count": 9,
   "id": "a1fb64c9",
   "metadata": {},
   "outputs": [
    {
     "data": {
      "image/png": "[encoded data removed]",
      "text/plain": [
       "<Figure size 576x288 with 2 Axes>"
      ]
     },
     "metadata": {
      "needs_background": "light"
     },
     "output_type": "display_data"
    }
   ],
   "source": [
    "fig, (ax1, ax2) = plt.subplots(1,2,figsize = (8,4))\n",
    "sns.boxplot(x = 'rating',y='summaryCharCount', data = dataset, showfliers = False, ax= ax1)\n",
    "sns.boxplot(x = 'rating',y='reviewTextCharCount', data = dataset, showfliers = False, ax = ax2)\n",
    "plt.subplots_adjust(wspace=0.4)\n",
    "plt.show()"
   ]
  },
  {
   "cell_type": "markdown",
   "id": "cfafd6ff",
   "metadata": {},
   "source": [
    "As is shown in the boxplot(outlier excluded), there is little difference in the length of reviews and summaries between different ratings.\n",
    "\n",
    "Review text length will be less on rating 1 and 5, with other ratings have longer text, the difference is small though.\n",
    "\n",
    "So merely the length of the text will not be a good indicator of rating."
   ]
  },
  {
   "cell_type": "markdown",
   "id": "2cf5b4e5",
   "metadata": {},
   "source": [
    "### 2.4. Between `reviewText` and `summary`\n"
   ]
  },
  {
   "cell_type": "code",
   "execution_count": 10,
   "id": "deca16cc",
   "metadata": {},
   "outputs": [],
   "source": [
    "# define the overlap similarity score\n",
    "# we use overlap instead of other methods \n",
    "# because the difference in length between two columns are quite big\n",
    "def overlapSim(str1, str2):\n",
    "    a = set(str1.lower().split()) \n",
    "    b = set(str2.lower().split())\n",
    "    c = a.intersection(b)\n",
    "    return float(len(c)) / min(len(a),len(b))\n",
    "\n",
    "overlapScoreResult = []\n",
    "for i,row in dataset.iterrows():\n",
    "    s1 = row.reviewText\n",
    "    s2 = row.summary\n",
    "    overlapScore = overlapSim(s1, s2)\n",
    "    overlapScoreResult.append(overlapScore)\n",
    "\n",
    "dataset.insert(loc = 4,\n",
    "              column = 'overlapScore',\n",
    "              value = overlapScoreResult)"
   ]
  },
  {
   "cell_type": "code",
   "execution_count": 11,
   "id": "cf6e2ab6",
   "metadata": {},
   "outputs": [
    {
     "data": {
      "text/plain": [
       "<AxesSubplot:xlabel='overlapScore', ylabel='Count'>"
      ]
     },
     "execution_count": 11,
     "metadata": {},
     "output_type": "execute_result"
    },
    {
     "data": {
      "image/png": "[encoded data removed]",
      "text/plain": [
       "<Figure size 432x288 with 1 Axes>"
      ]
     },
     "metadata": {
      "needs_background": "light"
     },
     "output_type": "display_data"
    }
   ],
   "source": [
    "sns.histplot(dataset['overlapScore'],bins = 10)"
   ]
  },
  {
   "cell_type": "code",
   "execution_count": 12,
   "id": "a030ff52",
   "metadata": {},
   "outputs": [
    {
     "data": {
      "text/plain": [
       "<AxesSubplot:xlabel='rating', ylabel='overlapScore'>"
      ]
     },
     "execution_count": 12,
     "metadata": {},
     "output_type": "execute_result"
    },
    {
     "data": {
      "image/png": "[encoded data removed]",
      "text/plain": [
       "<Figure size 432x288 with 1 Axes>"
      ]
     },
     "metadata": {
      "needs_background": "light"
     },
     "output_type": "display_data"
    }
   ],
   "source": [
    "sns.boxplot(x = 'rating',y='overlapScore', data = dataset)"
   ]
  },
  {
   "cell_type": "markdown",
   "id": "09d22be6",
   "metadata": {},
   "source": [
    "There is a large proportion of reviews that its summary has no **word similarity** with its content.\n",
    "\n",
    "However, this does not necessarily mean they do not have **semantic similarity**, more advanced techniques(using trained model / vectorized representation / after normalization) can be used to analyse the sementical similarity.\n",
    "\n",
    "The reason why similarity is analysed here is that `summary` may not provide accurate attitude and will be elaborate on the longer `reviewText`."
   ]
  },
  {
   "cell_type": "markdown",
   "id": "6211b164",
   "metadata": {},
   "source": [
    "## 3. Data Preprocessing\n",
    "We now have only the text data, which should be transformed into numerical representation to feed the model as computer can only handle structured data. \n",
    "\n",
    "Before that, texts should be normalized to reduce the variation:\n",
    "\n",
    "Example:\n",
    "\n",
    "`'good', 'GOOD', 'Goooood', 'best', 'great', 'graet', 'good!'` should mean the same thing with only slight difference in terms of **form, puntuation, upper/lower case, typo, etc.**. But the model may consider them as different word if only simple methods is used to transform them.\n",
    "\n",
    "For better generalization. Steps including:\n",
    "- lower case\n",
    "- contraction expansion\n",
    "- stop word removal\n",
    "- punctuation removal\n",
    "- lemmatization and stemming\n",
    "- part of speech tagging\n",
    "- ...\n",
    "\n",
    "**NOTE** that data quality is the most important thing - GARBAGE IN, GARBAGE OUT - The normalization steps should not have too much information loss.\n",
    "\n",
    "There are many methods to tranform the texts into numbers:\n",
    "1. Bag of words\n",
    "2. TF-idf\n",
    "3. Advanced embedding method (vectorization)\n",
    "\n",
    "**Note that some methods may cause data leakage** - methods that involve information in the test/validation set. - We should retrict these methods to be deployed in the training set only."
   ]
  },
  {
   "cell_type": "markdown",
   "id": "1c69d080",
   "metadata": {},
   "source": []
  },
  {
   "cell_type": "code",
   "execution_count": 13,
   "id": "021bf6b9",
   "metadata": {},
   "outputs": [],
   "source": [
    "# convert html entities\n",
    "# &#8217; => '\n",
    "\n",
    "def htmlEntityTran(DF, columns):\n",
    "    for acol in columns:\n",
    "        DF[acol] = DF[acol].apply(lambda x: html.unescape(x))"
   ]
  },
  {
   "cell_type": "code",
   "execution_count": 14,
   "id": "88bed718",
   "metadata": {},
   "outputs": [],
   "source": [
    "# expand contractions such as \n",
    "# I'm -> I am\n",
    "\n",
    "def contractionExpansion(DF, columns):\n",
    "    for acol in columns:\n",
    "        DF[acol] = DF[acol].apply(lambda x: contractions.fix(x))"
   ]
  },
  {
   "cell_type": "code",
   "execution_count": 15,
   "id": "cf8c3554",
   "metadata": {},
   "outputs": [],
   "source": [
    "def punctuationProcess(DF, columns):\n",
    "    for acol in columns:\n",
    "        DF[acol] = DF[acol].apply(lambda x: puncFix(x))\n",
    "        \n",
    "smileEmo = r\"\"\":-) :) :-] :] :-> :> 8-) 8) :-} :} :o) :c) :^) =] =) ^_^ ^^ :') :3 :-3 =3 x3 X3 (: (-: ))\"\"\".split(\" \") \n",
    "\n",
    "laughEmo =  r\"\"\":-D :D 8-D 8D =D =3 B^D c: x-D xD X-D XD C:]\"\"\".split(\" \")\n",
    "\n",
    "winkEmo = r\"\"\";-) ;) *-) *) ;-] ;] ;^) ;> :-, ;D ;3\"\"\".split(\" \")\n",
    "\n",
    "sadEmo = r\"\"\":-( :( :-c :c :-< :< :-[ :[ :-|| >:[ :{ :@ :( ;( :'-( :'( :=( :$ ): \"\"\".split(\" \")\n",
    "\n",
    "skepEmo =r\"\"\"\n",
    ":-/ \n",
    ":/ \n",
    ":-. \n",
    ">:\\\n",
    ">:/\n",
    "=/\n",
    "=\\\n",
    ":L\n",
    "=L\n",
    ":S\n",
    ":-|\n",
    ":|\n",
    "-_-\n",
    "\"\"\".split()\n",
    "           \n",
    "stunEmo = r\"\"\":-O :O :-o :o :-0 8‑0 >:O =O =o =0 O_O o_o O-O o-o O_o o_O\"\"\".split(\" \")\n",
    "\n",
    "def puncFix(row):\n",
    "    for emoticon in smileEmo:        \n",
    "        row = row.replace(emoticon, 'smileface')\n",
    "    for emoticon in laughEmo:        \n",
    "        row = row.replace(emoticon, 'laughface')\n",
    "    for emoticon in winkEmo:        \n",
    "        row = row.replace(emoticon, 'winkface')\n",
    "    for emoticon in sadEmo:        \n",
    "        row = row.replace(emoticon, 'sadface')\n",
    "    for emoticon in skepEmo:        \n",
    "        row = row.replace(emoticon, 'skepticalface')\n",
    "    for emoticon in stunEmo:        \n",
    "        row = row.replace(emoticon, 'stunnedface')\n",
    "\n",
    "    row = row.replace('$$','ss')\n",
    "    row = row.replace('$','money')\n",
    "    row = row.replace('w/','with')\n",
    "    row = re.sub(r\"\"\"(?<=[,.!'\";:()*?/-])(?=[a-zA-Z])\"\"\", ' ', row)\n",
    "    row = re.sub(r\"\"\"(?<=[a-zA-Z])(?=[,.!'\";:()*?/-])\"\"\", ' ', row)\n",
    "    row = re.sub(r\"[...][.]+\", '...', row)\n",
    "    row = re.sub(r\"[--][-]+\", '--', row)\n",
    "    row : row.replace('**', ' ** ')\n",
    "    return row\n"
   ]
  },
  {
   "cell_type": "code",
   "execution_count": 16,
   "id": "5909496b",
   "metadata": {},
   "outputs": [],
   "source": [
    "# lower case\n",
    "# A => a\n",
    "def lowercaseCountTranformer(DF, columns):\n",
    "    \"\"\"\n",
    "    This function transform all the characters into lower case,\n",
    "    And store the number of upper case\n",
    "    \"\"\"\n",
    "    for acol in columns:\n",
    "        DF[acol+'UpperCount'] = DF[acol].apply(lambda x: sum(1 for c in x if c.isupper() ) )\n",
    "        DF[acol] = DF[acol].apply(lambda x: x.lower())"
   ]
  },
  {
   "cell_type": "code",
   "execution_count": 17,
   "id": "abeb610f",
   "metadata": {},
   "outputs": [],
   "source": [
    "# lemmatization and stemming\n",
    "# turn the word back to its original form\n",
    "\n",
    "# tokenization\n",
    "# turning a sentense into a list of words\n",
    "\n",
    "def LemmatizationTransform(DF, columns, mode = \"Lemma\"):\n",
    "    \"\"\"\n",
    "    spacy is used but only the tokenization and lemmatization pipeline component is implemented on the data.\n",
    "    NLTK has some similar function but lack the precision \n",
    "    \n",
    "    Example:\n",
    "    'lemmatizing'\n",
    "    in nltk -> lemmatiz\n",
    "    in spacy -> lemmatize\n",
    "    \n",
    "    tokenization is also done by this step together in SpaCy\n",
    "    \"\"\"\n",
    "    for acol in columns:\n",
    "        if mode == \"Lemma\":\n",
    "            DF[acol+'tokenized'] = DF[acol].apply(lambda row: [token.lemma_ for token in spacyNLP(row)])\n",
    "        else:\n",
    "            DF[acol+'tokenized'] = DF[acol].apply(lambda row: [token.text for token in spacyNLP(row)])"
   ]
  },
  {
   "cell_type": "code",
   "execution_count": 18,
   "id": "26d08815",
   "metadata": {},
   "outputs": [
    {
     "name": "stdout",
     "output_type": "stream",
     "text": [
      "['i', 'me', 'my', 'myself', 'we', 'our', 'ours', 'ourselves', 'you', \"you're\", \"you've\", \"you'll\", \"you'd\", 'your', 'yours', 'yourself', 'yourselves', 'he', 'him', 'his', 'himself', 'she', \"she's\", 'her', 'hers', 'herself', 'it', \"it's\", 'its', 'itself', 'they', 'them', 'their', 'theirs', 'themselves', 'what', 'which', 'who', 'whom', 'this', 'that', \"that'll\", 'these', 'those', 'am', 'is', 'are', 'was', 'were', 'be', 'been', 'being', 'have', 'has', 'had', 'having', 'do', 'does', 'did', 'doing', 'a', 'an', 'the', 'and', 'but', 'if', 'or', 'because', 'as', 'until', 'while', 'of', 'at', 'by', 'for', 'with', 'about', 'against', 'between', 'into', 'through', 'during', 'before', 'after', 'above', 'below', 'to', 'from', 'up', 'down', 'in', 'out', 'on', 'off', 'over', 'under', 'again', 'further', 'then', 'once', 'here', 'there', 'when', 'where', 'why', 'how', 'all', 'any', 'both', 'each', 'few', 'more', 'most', 'other', 'some', 'such', 'no', 'nor', 'not', 'only', 'own', 'same', 'so', 'than', 'too', 'very', 's', 't', 'can', 'will', 'just', 'don', \"don't\", 'should', \"should've\", 'now', 'd', 'll', 'm', 'o', 're', 've', 'y', 'ain', 'aren', \"aren't\", 'couldn', \"couldn't\", 'didn', \"didn't\", 'doesn', \"doesn't\", 'hadn', \"hadn't\", 'hasn', \"hasn't\", 'haven', \"haven't\", 'isn', \"isn't\", 'ma', 'mightn', \"mightn't\", 'mustn', \"mustn't\", 'needn', \"needn't\", 'shan', \"shan't\", 'shouldn', \"shouldn't\", 'wasn', \"wasn't\", 'weren', \"weren't\", 'won', \"won't\", 'wouldn', \"wouldn't\"]\n"
     ]
    }
   ],
   "source": [
    "print(stopwords.words('english'))"
   ]
  },
  {
   "cell_type": "code",
   "execution_count": 19,
   "id": "b1480454",
   "metadata": {},
   "outputs": [],
   "source": [
    "origin = set(stopwords.words('english'))\n",
    "\n",
    "wanted = {'what','but','against','down','up','on','off','over','under','out','same'\n",
    "                'again','further','why','what','how', 'all', 'any','with'\n",
    "                'few', 'more', 'most', 'other','no', 'nor', 'not', 'only',\n",
    "                'than', 'too', 'very', 'just', 'should', 'ain',\n",
    "                'aren', \"aren't\", 'couldn', \"couldn't\", 'didn', \"didn't\",\n",
    "                'doesn', \"doesn't\", 'hadn', \"hadn't\", 'hasn', \"hasn't\", 'haven',\n",
    "                \"haven't\", 'isn', \"isn't\", 'ma', 'mightn', \"mightn't\", 'mustn',\n",
    "                \"mustn't\", 'needn', \"needn't\", 'shan', \"shan't\", 'shouldn', \"shouldn't\",\n",
    "                'wasn', \"wasn't\", 'weren', \"weren't\", 'won', \"won't\", 'wouldn', \"wouldn't\"}\n",
    "\n",
    "unwanted = {'the','I',\"'s\"}\n",
    "\n",
    "StopWordCustom_Deep = list(origin - wanted | unwanted)\n",
    "\n",
    "StopWordCustom_Shallow = [\"it's\", 'their', 're', 'she', 'ours', \n",
    "                          'it', 've', 'you', 'y', 'o', 'themselves',\n",
    "                          'your', 'yours', 'm', \"you'd\",\n",
    "                          \"you're\", 'and', 'its', \"you've\", 'that', 'ourselves',\n",
    "                          'himself', 'this', 'been', \"you'll\", 'an', 'my', 'me',\n",
    "                          'myself', 'a', 'these', 'which',\n",
    "                          'he', 'his', 'I', 'them', 'the', \"'s\", 'yourselves', \n",
    "                          'our', 's', 'yourself', 'theirs', 'herself', 'they', \"she's\",\n",
    "                          'hers', 'we', 'those', 'him', \"that'll\", 'i', 'her', 'itself']\n",
    "# stopword removal\n",
    "def stopWordRemove(DF, columns, deep = True):\n",
    "    for acol in columns:\n",
    "        if deep == True:\n",
    "            DF[acol] = DF[acol].apply(lambda alist: [item for item in alist if item not in StopWordCustom_Deep])\n",
    "        else:\n",
    "            DF[acol] = DF[acol].apply(lambda alist: [item for item in alist if item not in StopWordCustom_Shallow])\n"
   ]
  },
  {
   "cell_type": "code",
   "execution_count": 20,
   "id": "39d6cf8d",
   "metadata": {},
   "outputs": [],
   "source": [
    "# punctuation\n",
    "# '...' and '!' and '?' would contain some information about the sentiment\n",
    "\n",
    "punctList = set(string.punctuation)\n",
    "puncwanted = {'!', '?'}\n",
    "puncunwanted = {' '}\n",
    "punctList = punctList - puncwanted | puncunwanted \n",
    "\n",
    "def punctRemover(DF, columns):\n",
    "    for acol in columns:\n",
    "        DF[acol] = DF[acol].apply(lambda alist: [item for item in alist if item not in punctList])\n",
    "        "
   ]
  },
  {
   "cell_type": "code",
   "execution_count": 21,
   "id": "78db7eb3",
   "metadata": {},
   "outputs": [],
   "source": [
    "punctuationException = {'?','!','...'}\n",
    "others = {'eh'}\n",
    "symspellException = punctuationException | others"
   ]
  },
  {
   "cell_type": "code",
   "execution_count": 22,
   "id": "297c6d9f",
   "metadata": {},
   "outputs": [],
   "source": [
    "sym_spell = SymSpell(max_dictionary_edit_distance=2, prefix_length=7)\n",
    "dictionary_path = pkg_resources.resource_filename(\n",
    "    \"symspellpy\", \"frequency_dictionary_en_82_765.txt\"\n",
    ")\n",
    "# term_index is the column of the term and count_index is the\n",
    "# column of the term frequency\n",
    "sym_spell.load_dictionary(dictionary_path, term_index=0, count_index=1)\n",
    "\n",
    "def spellcheck(tokens):\n",
    "    checkedtokens = []\n",
    "    for token in tokens:\n",
    "        if (token not in symspellException) and (not token.isnumeric()):\n",
    "            try:\n",
    "                checkedtokens.append(sym_spell.lookup(token, Verbosity.CLOSEST, max_edit_distance=2)[0].term)\n",
    "            except:\n",
    "                checkedtokens.append(token)\n",
    "        else:\n",
    "            checkedtokens.append(token)\n",
    "    return checkedtokens\n",
    "\n",
    "def spellCheckReplace(DF, columns):\n",
    "    for acol in columns:\n",
    "        DF[acol] = DF[acol].apply(spellcheck)"
   ]
  },
  {
   "cell_type": "markdown",
   "id": "a877633f",
   "metadata": {},
   "source": [
    "- The html entity code for special characteristics: **(solved)**\n",
    "\n",
    "iloc[2941] - `&#34;`\n",
    "\n",
    "iloc[7085] - `&eacute;`\n",
    "\n",
    "- Some emoji/ simple face expression **(solved)**\n",
    "\n",
    "> spaCy have the ability in tokenizing the text-based emoticon\n",
    "https://github.com/explosion/spaCy/blob/master/spacy/lang/tokenizer_exceptions.py#L115\n",
    "\n",
    "iloc[3697] - `:)`\n",
    "\n",
    "iloc[8983] - `;-)`\n",
    "\n",
    "- repeated punctuation (not solved)\n",
    "\n",
    "iloc[2998] - `WHAT?!?!?!?!`\n",
    "\n",
    "iloc[7486] - `...`\n",
    "\n",
    "- Abbreviation (not solved)\n",
    "\n",
    "iloc[5884] - `def.` == `definitely`\n",
    "\n",
    "iloc[8503] summ. - `$` == money\n",
    "\n",
    "iloc[8163] summ. `w/` == with\n",
    "\n",
    "- Direct information (not solved)\n",
    "\n",
    "iloc[4695] - `**4.5 stars**`\n",
    "\n",
    "- Wierd expressions (not solved)\n",
    "\n",
    "iloc[2873] - `a$$`\n",
    "\n",
    "- Typo **solved**\n",
    "\n",
    "iloc[4026] summ. - `lovrd it`\n",
    "\n",
    "- `spacy` tokenization problems **solved**\n",
    "\n",
    "iloc[4695] - `**4.5 stars**` ==> `stars**i`"
   ]
  },
  {
   "cell_type": "markdown",
   "id": "441ce592",
   "metadata": {},
   "source": [
    "More can be done\n",
    "- phrase extraction\n",
    "    - by adding exceptions in tokenization\n",
    "- expansion with synonyms\n",
    "    - augmentation\n",
    "- dependence parsing\n",
    "\n",
    "- sentense tokenization\n",
    "\n",
    "Possibility in improvements in normalization and tokenization:\n",
    "- **lower case**, some people may use all upper case to express a strong feeling and that may be a good indicator of an extreme rating.\n",
    "- **punctuation**, some punctuation,  `!` - implies a strong expression, `?` implies a questioning attitude, `...` implies skeptical or reserved feelings - decided by context. And some more advanced expressions like `:)`,`:P`, could also contain some sementic meanings but is excluded in the analysis.\n",
    "- **stop words**, we may add more stop words other than common one(which should be task-specific) this could be done by looking at the prediction faeture importance using `SHAP` library.\n",
    "- **abbreviation&slang**, there are some abbreviation or slang that can be extended to its original form that can be further normalize the dataset.\n",
    "These aspects can shed light on the model performance improvement."
   ]
  },
  {
   "cell_type": "code",
   "execution_count": null,
   "id": "e1ebbb6a",
   "metadata": {},
   "outputs": [],
   "source": []
  },
  {
   "cell_type": "code",
   "execution_count": 23,
   "id": "c23c70c0",
   "metadata": {},
   "outputs": [],
   "source": [
    "# Workflow of deep preprocess\n",
    "def DeepPreprocess(df):\n",
    "    htmlEntityTran(df,['reviewText','summary']) # &#34; => \"\n",
    "    contractionExpansion(df,['reviewText','summary']) # I'm => I am\n",
    "    punctuationProcess(df,['reviewText','summary']) # add space before puncs; emoticon; normalize\n",
    "    lowercaseCountTranformer(df, ['reviewText','summary']) # A => a ; add count column\n",
    "    LemmatizationTransform(df,['reviewText','summary']) # smiled => smile; tokenized\n",
    "    stopWordRemove(df,['reviewTexttokenized','summarytokenized']) # delete \"I\"\n",
    "    punctRemover(df,['reviewTexttokenized','summarytokenized']) # delete meaningless punctuation\n",
    "    spellCheckReplace(df,['reviewTexttokenized','summarytokenized']) # graet => great\n",
    "    \n",
    "DeepPreprocess(dataset)"
   ]
  },
  {
   "cell_type": "code",
   "execution_count": 24,
   "id": "4f3d3bce",
   "metadata": {},
   "outputs": [],
   "source": [
    "#DeepPreprocess(dataset)\n",
    "#subData = pd.read_csv('test.csv')\n",
    "#DeepPreprocess(subData)\n",
    "#subData.to_csv('preprocessedtest_deep.csv')\n",
    "#dataset.to_csv('preprocessedtrain_deep.csv')"
   ]
  },
  {
   "cell_type": "code",
   "execution_count": 26,
   "id": "1d975287",
   "metadata": {},
   "outputs": [],
   "source": [
    "# shallow preprocessing (for neural networks that can learn grammar)\n",
    "def ShallowPreprocess(df):\n",
    "    htmlEntityTran(df,['reviewText','summary']) # &#34; => \"\n",
    "    contractionExpansion(df,['reviewText','summary']) # I'm => I am\n",
    "    punctuationProcess(df,['reviewText','summary']) # add space before puncs; emoticon; normalize\n",
    "    lowercaseCountTranformer(df, ['reviewText','summary']) # A => a ; add count column\n",
    "    LemmatizationTransform(df,['reviewText','summary'], mode = \"shallow\") # only tokenized\n",
    "    stopWordRemove(df,['reviewTexttokenized','summarytokenized'], deep = False) # delete \"I\"\n",
    "    punctRemover(df,['reviewTexttokenized','summarytokenized']) # delete meaningless punctuation\n",
    "    \n"
   ]
  },
  {
   "cell_type": "code",
   "execution_count": 27,
   "id": "1b734311",
   "metadata": {},
   "outputs": [],
   "source": [
    "# run this to do shallow preprocess \n",
    "# keep the proposition \n",
    "# avoid using misspelling correction - \n",
    "# it may do wrongly and convert useful information to something else\n",
    "\n",
    "#subData = pd.read_csv('test.csv')\n",
    "#ShallowPreprocess(dataset)\n",
    "#ShallowPreprocess(subData)\n",
    "\n",
    "subData.to_csv('preprocessedtest_deep.csv')\n",
    "dataset.to_csv('preprocessedtrain_deep.csv')"
   ]
  },
  {
   "cell_type": "markdown",
   "id": "d05d22b1",
   "metadata": {},
   "source": [
    "## Data quality checker"
   ]
  },
  {
   "cell_type": "code",
   "execution_count": 28,
   "id": "7f9dd5ee",
   "metadata": {},
   "outputs": [
    {
     "name": "stdout",
     "output_type": "stream",
     "text": [
      "8983\n",
      "['just', 'discovered', 'author', 'is', 'wonderful', 'there', 'is', 'some', 'nascar', 'with', 'feisty', 'female', 'driver', 'really', 'hot', 'dom', 'acting', 'as', 'protector', 'among', 'other', 'things', 'winkfacei', 'really', 'enjoyed', 'well', 'written', 'novella', 'only', 'complaint', 'was', 'ended', 'too', 'soon']\n",
      "==============================\n",
      "['what', 'is', 'not', 'to', 'love', '?']\n",
      "==============================\n",
      "i just discovered this author and she is wonderful . there is some nascar with a feisty female driver and a really hot dom acting as her protector ( among other things ) winkfacei really enjoyed this well - written novella . my only complaint was that it ended too soon .\n",
      "==============================\n",
      "what is not to love ?\n",
      "******************************\n",
      "I just discovered this author and she is wonderful. There's some NASCAR with a feisty female driver and a really hot Dom acting as her protector (among other things) ;-)I really enjoyed this well-written novella. My only complaint was that it ended too soon.\n",
      "==============================\n",
      "What's Not To Love?\n"
     ]
    }
   ],
   "source": [
    "# data quality checker\n",
    "a = random.randint(0,9000)\n",
    "a = 8983\n",
    "print(a)\n",
    "print(dataset['reviewTexttokenized'].iloc[a])\n",
    "print(\"==============================\")\n",
    "print(dataset['summarytokenized'].iloc[a])\n",
    "print(\"==============================\")\n",
    "print(dataset['reviewText'].iloc[a])\n",
    "print(\"==============================\")\n",
    "print(dataset['summary'].iloc[a])\n",
    "print(\"******************************\")\n",
    "print(originData['reviewText'].iloc[a])\n",
    "print(\"==============================\")\n",
    "print(originData['summary'].iloc[a])"
   ]
  },
  {
   "cell_type": "code",
   "execution_count": 29,
   "id": "c01d4319",
   "metadata": {},
   "outputs": [
    {
     "name": "stdout",
     "output_type": "stream",
     "text": [
      "MaxLengthReview 1746\n",
      "MaxLengthSummary 20\n"
     ]
    }
   ],
   "source": [
    "from collections import Counter\n",
    "counter = Counter()\n",
    "\n",
    "MaxLengthReview = 0\n",
    "MaxLengthSummary = 0\n",
    "\n",
    "for row in dataset['reviewTexttokenized']:\n",
    "    counter.update(row)\n",
    "    if len(row) > MaxLengthReview:\n",
    "        MaxLengthReview = len(row)\n",
    "\n",
    "for row in dataset['summarytokenized']:\n",
    "    counter.update(row)\n",
    "    if len(row) > MaxLengthSummary:\n",
    "        MaxLengthSummary = len(row)\n",
    "        \n",
    "print('MaxLengthReview', MaxLengthReview)\n",
    "print('MaxLengthSummary',MaxLengthSummary)"
   ]
  },
  {
   "cell_type": "code",
   "execution_count": 30,
   "id": "02ca8070",
   "metadata": {
    "scrolled": true
   },
   "outputs": [
    {
     "name": "stdout",
     "output_type": "stream",
     "text": [
      "! |===> 6249\n",
      "'' |===> 1\n",
      "): |===> 21\n",
      "-')= |===> 1\n",
      "-- |===> 617\n",
      "-10- |===> 1\n",
      "-à- |===> 1\n",
      ".\"- |===> 5\n",
      ".)- |===> 1\n",
      ".- |===> 137\n",
      ".-- |===> 8\n",
      "... |===> 3238\n",
      "./ |===> 1\n",
      ".0- |===> 1\n",
      ".99- |===> 1\n",
      ".[ |===> 1\n",
      ".~ |===> 1\n",
      ".~~ |===> 1\n",
      "0/ |===> 5\n",
      "1)- |===> 25\n",
      "1- |===> 15\n",
      "1.- |===> 2\n",
      "10- |===> 3\n",
      "100- |===> 1\n",
      "11- |===> 1\n",
      "12- |===> 2\n",
      "120- |===> 1\n",
      "13- |===> 1\n",
      "14- |===> 3\n",
      "15- |===> 2\n",
      "16- |===> 1\n",
      "18- |===> 2\n",
      "2)- |===> 1\n",
      "2- |===> 5\n",
      "20- |===> 5\n",
      "200- |===> 1\n",
      "26- |===> 1\n",
      "28- |===> 1\n",
      "29- |===> 1\n",
      "3)- |===> 1\n",
      "3- |===> 9\n",
      "3.- |===> 1\n",
      "3.5</ |===> 1\n",
      "30- |===> 3\n",
      "300- |===> 1\n",
      "36)-- |===> 1\n",
      "4- |===> 8\n",
      "40- |===> 3\n",
      "4;-- |===> 1\n",
      "5- |===> 8\n",
      "50+% |===> 1\n",
      "50- |===> 2\n",
      "54- |===> 1\n",
      "6- |===> 3\n",
      "60+% |===> 1\n",
      "60- |===> 9\n",
      "7- |===> 2\n",
      "8- |===> 1\n",
      "80- |===> 1\n",
      ":* |===> 12\n",
      ":-* |===> 1\n",
      "=( |===> 2\n",
      "? |===> 2719\n",
      "a+ |===> 7\n",
      "a++ |===> 1\n",
      "a+++++ |===> 1\n",
      "b+ |===> 2\n",
      "book[ |===> 1\n",
      "book~ |===> 1\n",
      "bright= |===> 1\n",
      "c+ |===> 3\n",
      "call</ |===> 1\n",
      "cliché- |===> 1\n",
      "excellent@ |===> 1\n",
      "f#&@ |===> 1\n",
      "href= |===> 1\n",
      "ink</ |===> 1\n",
      "jo~ |===> 1\n",
      "long~ |===> 1\n",
      "mc~ |===> 1\n",
      "money10/ |===> 2\n",
      "money20/ |===> 2\n",
      "money35- |===> 1\n",
      "mp3- |===> 1\n",
      "ok+ |===> 1\n",
      "own\\ |===> 1\n",
      "screen</ |===> 1\n",
      "something~~ |===> 1\n",
      "teen+ |===> 1\n",
      "time</ |===> 1\n",
      "truth</ |===> 3\n",
      "uniforms= |===> 1\n",
      "wind</ |===> 1\n",
      "~money0.67/ |===> 1\n",
      "~~ |===> 1\n"
     ]
    }
   ],
   "source": [
    "for akey in sorted(counter.keys()):\n",
    "    for char in akey:\n",
    "        a = 0\n",
    "        if char in string.punctuation:\n",
    "            a = a + 1\n",
    "    if a > 0:\n",
    "#        if counter[akey]>=2:\n",
    "        print(akey, '|===>', counter[akey]) "
   ]
  }
 ],
 "metadata": {
  "kernelspec": {
   "display_name": "Python 3 (ipykernel)",
   "language": "python",
   "name": "python3"
  },
  "language_info": {
   "codemirror_mode": {
    "name": "ipython",
    "version": 3
   },
   "file_extension": ".py",
   "mimetype": "text/x-python",
   "name": "python",
   "nbconvert_exporter": "python",
   "pygments_lexer": "ipython3",
   "version": "3.8.13"
  }
 },
 "nbformat": 4,
 "nbformat_minor": 5
}
